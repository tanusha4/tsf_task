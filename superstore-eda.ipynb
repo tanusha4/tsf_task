{
 "cells": [
  {
   "cell_type": "markdown",
   "id": "846e1114",
   "metadata": {
    "papermill": {
     "duration": 0.042845,
     "end_time": "2021-07-11T07:12:23.670487",
     "exception": false,
     "start_time": "2021-07-11T07:12:23.627642",
     "status": "completed"
    },
    "tags": []
   },
   "source": [
    "## The Sparks Foundation: Graduate Rotational Internship Program\n",
    "\n",
    "#### Presenter: Tanusha Gupta\n",
    "\n",
    "#### Date: 10/07/2021"
   ]
  },
  {
   "cell_type": "markdown",
   "id": "ffd4c98a",
   "metadata": {
    "papermill": {
     "duration": 0.034906,
     "end_time": "2021-07-11T07:12:23.740871",
     "exception": false,
     "start_time": "2021-07-11T07:12:23.705965",
     "status": "completed"
    },
    "tags": []
   },
   "source": [
    "# Explorartory Data Analysis Project - Retail\n",
    "\n",
    "## Introduction\n",
    "\n",
    "A supermarket is a self-service shop offering a wide variety of food, beverages and household products, organized into sections. This kind of store is larger and has a wider selection than earlier grocery stores, but is smaller and more limited in the range of merchandise than a hypermarket or big-box market. In everyday usage, however,* \"grocery store\"* is synonymous with supermarket, and is not used to refer to other types of stores that sell groceries.\n",
    "\n",
    "<a href=\"https://imgbb.com/\"><img src=\"https://i.ibb.co/kMwMyk6/super.jpg\" alt=\"super\" border=\"0\"></a><br /><a target='_blank' href='https://the-crosswordsolver.com/genuine-in-germany-4-letters'></a><br />"
   ]
  },
  {
   "cell_type": "markdown",
   "id": "974e1ba6",
   "metadata": {
    "papermill": {
     "duration": 0.034906,
     "end_time": "2021-07-11T07:12:23.810724",
     "exception": false,
     "start_time": "2021-07-11T07:12:23.775818",
     "status": "completed"
    },
    "tags": []
   },
   "source": [
    "----\n",
    "### IMPORTING LIBRARIES¶\n",
    "List of all the python libraries that are required:\n",
    "\n",
    "- Library `pandas` will be required to work with data in tabular representation.\n",
    "- Library `numpy` will be required to round the data in the correlation matrix.\n",
    "- Library `warning` will be required to ignore all warnings.\n",
    "- Library `matplotlib`, `seaborn`, `plotly` required for data visualization.\n",
    "\n",
    "---"
   ]
  },
  {
   "cell_type": "code",
   "execution_count": 1,
   "id": "5c669afb",
   "metadata": {
    "_cell_guid": "b1076dfc-b9ad-4769-8c92-a6c4dae69d19",
    "_uuid": "8f2839f25d086af736a60e9eeb907d3b93b6e0e5",
    "execution": {
     "iopub.execute_input": "2021-07-11T07:12:23.884955Z",
     "iopub.status.busy": "2021-07-11T07:12:23.883703Z",
     "iopub.status.idle": "2021-07-11T07:12:26.401340Z",
     "shell.execute_reply": "2021-07-11T07:12:26.400636Z",
     "shell.execute_reply.started": "2021-07-11T06:58:25.051347Z"
    },
    "papermill": {
     "duration": 2.556515,
     "end_time": "2021-07-11T07:12:26.401499",
     "exception": false,
     "start_time": "2021-07-11T07:12:23.844984",
     "status": "completed"
    },
    "tags": []
   },
   "outputs": [
    {
     "name": "stdout",
     "output_type": "stream",
     "text": [
      "/kaggle/input/tsf-datasets/student_scores.csv\n",
      "/kaggle/input/tsf-datasets/matches.csv\n",
      "/kaggle/input/tsf-datasets/deliveries.csv\n",
      "/kaggle/input/tsf-datasets/globalterrorismdb_0718dist.csv\n",
      "/kaggle/input/tsf-datasets/india-news-headlines.csv\n",
      "/kaggle/input/tsf-datasets/SampleSuperstore.csv\n",
      "/kaggle/input/tsf-datasets/Iris.csv\n"
     ]
    }
   ],
   "source": [
    "# This Python 3 environment comes with many helpful analytics libraries installed\n",
    "# It is defined by the kaggle/python Docker image: https://github.com/kaggle/docker-python\n",
    "# For example, here's several helpful packages to load\n",
    "\n",
    "import numpy as np\n",
    "import pandas as pd\n",
    "import seaborn as sns\n",
    "import plotly.express as px\n",
    "import matplotlib.pyplot as plt\n",
    "import matplotlib\n",
    "%matplotlib inline\n",
    "\n",
    "import warnings\n",
    "warnings.simplefilter(action=\"ignore\")\n",
    "\n",
    "# Input data files are available in the read-only \"../input/\" directory\n",
    "\n",
    "import os\n",
    "for dirname, _, filenames in os.walk('/kaggle/input'):\n",
    "    for filename in filenames:\n",
    "        print(os.path.join(dirname, filename))\n",
    "\n",
    "# You can write up to 20GB to the current directory (/kaggle/working/) that gets preserved as output when you create a version using \"Save & Run All\" \n",
    "# You can also write temporary files to /kaggle/temp/, but they won't be saved outside of the current session"
   ]
  },
  {
   "cell_type": "code",
   "execution_count": 2,
   "id": "7582de80",
   "metadata": {
    "execution": {
     "iopub.execute_input": "2021-07-11T07:12:26.475457Z",
     "iopub.status.busy": "2021-07-11T07:12:26.474798Z",
     "iopub.status.idle": "2021-07-11T07:12:26.540352Z",
     "shell.execute_reply": "2021-07-11T07:12:26.541367Z",
     "shell.execute_reply.started": "2021-07-11T06:58:25.084649Z"
    },
    "papermill": {
     "duration": 0.10546,
     "end_time": "2021-07-11T07:12:26.541567",
     "exception": false,
     "start_time": "2021-07-11T07:12:26.436107",
     "status": "completed"
    },
    "tags": []
   },
   "outputs": [
    {
     "name": "stdout",
     "output_type": "stream",
     "text": [
      "Data loaded successfully.\n"
     ]
    }
   ],
   "source": [
    "df = pd.read_csv('/kaggle/input/tsf-datasets/SampleSuperstore.csv')\n",
    "print('Data loaded successfully.')"
   ]
  },
  {
   "cell_type": "markdown",
   "id": "d620c53b",
   "metadata": {
    "papermill": {
     "duration": 0.034706,
     "end_time": "2021-07-11T07:12:26.610840",
     "exception": false,
     "start_time": "2021-07-11T07:12:26.576134",
     "status": "completed"
    },
    "tags": []
   },
   "source": [
    "----\n",
    "Now the dataset is loaded, we will now understand the dataset.\n",
    "\n",
    "----"
   ]
  },
  {
   "cell_type": "code",
   "execution_count": 3,
   "id": "a128ec26",
   "metadata": {
    "execution": {
     "iopub.execute_input": "2021-07-11T07:12:26.683006Z",
     "iopub.status.busy": "2021-07-11T07:12:26.682309Z",
     "iopub.status.idle": "2021-07-11T07:12:26.717939Z",
     "shell.execute_reply": "2021-07-11T07:12:26.718455Z",
     "shell.execute_reply.started": "2021-07-11T06:58:25.120863Z"
    },
    "papermill": {
     "duration": 0.072977,
     "end_time": "2021-07-11T07:12:26.718641",
     "exception": false,
     "start_time": "2021-07-11T07:12:26.645664",
     "status": "completed"
    },
    "tags": []
   },
   "outputs": [
    {
     "data": {
      "text/html": [
       "<div>\n",
       "<style scoped>\n",
       "    .dataframe tbody tr th:only-of-type {\n",
       "        vertical-align: middle;\n",
       "    }\n",
       "\n",
       "    .dataframe tbody tr th {\n",
       "        vertical-align: top;\n",
       "    }\n",
       "\n",
       "    .dataframe thead th {\n",
       "        text-align: right;\n",
       "    }\n",
       "</style>\n",
       "<table border=\"1\" class=\"dataframe\">\n",
       "  <thead>\n",
       "    <tr style=\"text-align: right;\">\n",
       "      <th></th>\n",
       "      <th>Ship Mode</th>\n",
       "      <th>Segment</th>\n",
       "      <th>Country</th>\n",
       "      <th>City</th>\n",
       "      <th>State</th>\n",
       "      <th>Postal Code</th>\n",
       "      <th>Region</th>\n",
       "      <th>Category</th>\n",
       "      <th>Sub-Category</th>\n",
       "      <th>Sales</th>\n",
       "      <th>Quantity</th>\n",
       "      <th>Discount</th>\n",
       "      <th>Profit</th>\n",
       "    </tr>\n",
       "  </thead>\n",
       "  <tbody>\n",
       "    <tr>\n",
       "      <th>0</th>\n",
       "      <td>Second Class</td>\n",
       "      <td>Consumer</td>\n",
       "      <td>United States</td>\n",
       "      <td>Henderson</td>\n",
       "      <td>Kentucky</td>\n",
       "      <td>42420</td>\n",
       "      <td>South</td>\n",
       "      <td>Furniture</td>\n",
       "      <td>Bookcases</td>\n",
       "      <td>261.9600</td>\n",
       "      <td>2</td>\n",
       "      <td>0.00</td>\n",
       "      <td>41.9136</td>\n",
       "    </tr>\n",
       "    <tr>\n",
       "      <th>1</th>\n",
       "      <td>Second Class</td>\n",
       "      <td>Consumer</td>\n",
       "      <td>United States</td>\n",
       "      <td>Henderson</td>\n",
       "      <td>Kentucky</td>\n",
       "      <td>42420</td>\n",
       "      <td>South</td>\n",
       "      <td>Furniture</td>\n",
       "      <td>Chairs</td>\n",
       "      <td>731.9400</td>\n",
       "      <td>3</td>\n",
       "      <td>0.00</td>\n",
       "      <td>219.5820</td>\n",
       "    </tr>\n",
       "    <tr>\n",
       "      <th>2</th>\n",
       "      <td>Second Class</td>\n",
       "      <td>Corporate</td>\n",
       "      <td>United States</td>\n",
       "      <td>Los Angeles</td>\n",
       "      <td>California</td>\n",
       "      <td>90036</td>\n",
       "      <td>West</td>\n",
       "      <td>Office Supplies</td>\n",
       "      <td>Labels</td>\n",
       "      <td>14.6200</td>\n",
       "      <td>2</td>\n",
       "      <td>0.00</td>\n",
       "      <td>6.8714</td>\n",
       "    </tr>\n",
       "    <tr>\n",
       "      <th>3</th>\n",
       "      <td>Standard Class</td>\n",
       "      <td>Consumer</td>\n",
       "      <td>United States</td>\n",
       "      <td>Fort Lauderdale</td>\n",
       "      <td>Florida</td>\n",
       "      <td>33311</td>\n",
       "      <td>South</td>\n",
       "      <td>Furniture</td>\n",
       "      <td>Tables</td>\n",
       "      <td>957.5775</td>\n",
       "      <td>5</td>\n",
       "      <td>0.45</td>\n",
       "      <td>-383.0310</td>\n",
       "    </tr>\n",
       "    <tr>\n",
       "      <th>4</th>\n",
       "      <td>Standard Class</td>\n",
       "      <td>Consumer</td>\n",
       "      <td>United States</td>\n",
       "      <td>Fort Lauderdale</td>\n",
       "      <td>Florida</td>\n",
       "      <td>33311</td>\n",
       "      <td>South</td>\n",
       "      <td>Office Supplies</td>\n",
       "      <td>Storage</td>\n",
       "      <td>22.3680</td>\n",
       "      <td>2</td>\n",
       "      <td>0.20</td>\n",
       "      <td>2.5164</td>\n",
       "    </tr>\n",
       "  </tbody>\n",
       "</table>\n",
       "</div>"
      ],
      "text/plain": [
       "        Ship Mode    Segment        Country             City       State  \\\n",
       "0    Second Class   Consumer  United States        Henderson    Kentucky   \n",
       "1    Second Class   Consumer  United States        Henderson    Kentucky   \n",
       "2    Second Class  Corporate  United States      Los Angeles  California   \n",
       "3  Standard Class   Consumer  United States  Fort Lauderdale     Florida   \n",
       "4  Standard Class   Consumer  United States  Fort Lauderdale     Florida   \n",
       "\n",
       "   Postal Code Region         Category Sub-Category     Sales  Quantity  \\\n",
       "0        42420  South        Furniture    Bookcases  261.9600         2   \n",
       "1        42420  South        Furniture       Chairs  731.9400         3   \n",
       "2        90036   West  Office Supplies       Labels   14.6200         2   \n",
       "3        33311  South        Furniture       Tables  957.5775         5   \n",
       "4        33311  South  Office Supplies      Storage   22.3680         2   \n",
       "\n",
       "   Discount    Profit  \n",
       "0      0.00   41.9136  \n",
       "1      0.00  219.5820  \n",
       "2      0.00    6.8714  \n",
       "3      0.45 -383.0310  \n",
       "4      0.20    2.5164  "
      ]
     },
     "execution_count": 3,
     "metadata": {},
     "output_type": "execute_result"
    }
   ],
   "source": [
    "df.head()"
   ]
  },
  {
   "cell_type": "code",
   "execution_count": 4,
   "id": "920aa807",
   "metadata": {
    "execution": {
     "iopub.execute_input": "2021-07-11T07:12:26.792171Z",
     "iopub.status.busy": "2021-07-11T07:12:26.791509Z",
     "iopub.status.idle": "2021-07-11T07:12:26.796146Z",
     "shell.execute_reply": "2021-07-11T07:12:26.796919Z",
     "shell.execute_reply.started": "2021-07-11T06:58:25.166732Z"
    },
    "papermill": {
     "duration": 0.043255,
     "end_time": "2021-07-11T07:12:26.797232",
     "exception": false,
     "start_time": "2021-07-11T07:12:26.753977",
     "status": "completed"
    },
    "tags": []
   },
   "outputs": [
    {
     "name": "stdout",
     "output_type": "stream",
     "text": [
      "Shape of our dataframe is :(9994, 13)\n"
     ]
    }
   ],
   "source": [
    "print('Shape of our dataframe is :' +str(df.shape))"
   ]
  },
  {
   "cell_type": "code",
   "execution_count": 5,
   "id": "ea458b8d",
   "metadata": {
    "execution": {
     "iopub.execute_input": "2021-07-11T07:12:26.872113Z",
     "iopub.status.busy": "2021-07-11T07:12:26.871488Z",
     "iopub.status.idle": "2021-07-11T07:12:26.899685Z",
     "shell.execute_reply": "2021-07-11T07:12:26.898979Z",
     "shell.execute_reply.started": "2021-07-11T06:58:25.209049Z"
    },
    "papermill": {
     "duration": 0.066194,
     "end_time": "2021-07-11T07:12:26.899828",
     "exception": false,
     "start_time": "2021-07-11T07:12:26.833634",
     "status": "completed"
    },
    "tags": []
   },
   "outputs": [
    {
     "name": "stdout",
     "output_type": "stream",
     "text": [
      "<class 'pandas.core.frame.DataFrame'>\n",
      "RangeIndex: 9994 entries, 0 to 9993\n",
      "Data columns (total 13 columns):\n",
      " #   Column        Non-Null Count  Dtype  \n",
      "---  ------        --------------  -----  \n",
      " 0   Ship Mode     9994 non-null   object \n",
      " 1   Segment       9994 non-null   object \n",
      " 2   Country       9994 non-null   object \n",
      " 3   City          9994 non-null   object \n",
      " 4   State         9994 non-null   object \n",
      " 5   Postal Code   9994 non-null   int64  \n",
      " 6   Region        9994 non-null   object \n",
      " 7   Category      9994 non-null   object \n",
      " 8   Sub-Category  9994 non-null   object \n",
      " 9   Sales         9994 non-null   float64\n",
      " 10  Quantity      9994 non-null   int64  \n",
      " 11  Discount      9994 non-null   float64\n",
      " 12  Profit        9994 non-null   float64\n",
      "dtypes: float64(3), int64(2), object(8)\n",
      "memory usage: 1015.1+ KB\n"
     ]
    }
   ],
   "source": [
    "df.info()"
   ]
  },
  {
   "cell_type": "code",
   "execution_count": 6,
   "id": "74132e3c",
   "metadata": {
    "execution": {
     "iopub.execute_input": "2021-07-11T07:12:26.984552Z",
     "iopub.status.busy": "2021-07-11T07:12:26.983841Z",
     "iopub.status.idle": "2021-07-11T07:12:26.992102Z",
     "shell.execute_reply": "2021-07-11T07:12:26.991432Z",
     "shell.execute_reply.started": "2021-07-11T06:58:25.236079Z"
    },
    "papermill": {
     "duration": 0.056683,
     "end_time": "2021-07-11T07:12:26.992249",
     "exception": false,
     "start_time": "2021-07-11T07:12:26.935566",
     "status": "completed"
    },
    "tags": []
   },
   "outputs": [
    {
     "data": {
      "text/plain": [
       "Ship Mode       0\n",
       "Segment         0\n",
       "Country         0\n",
       "City            0\n",
       "State           0\n",
       "Postal Code     0\n",
       "Region          0\n",
       "Category        0\n",
       "Sub-Category    0\n",
       "Sales           0\n",
       "Quantity        0\n",
       "Discount        0\n",
       "Profit          0\n",
       "dtype: int64"
      ]
     },
     "execution_count": 6,
     "metadata": {},
     "output_type": "execute_result"
    }
   ],
   "source": [
    "df.isna().sum()"
   ]
  },
  {
   "cell_type": "markdown",
   "id": "d5f18df0",
   "metadata": {
    "papermill": {
     "duration": 0.036881,
     "end_time": "2021-07-11T07:12:27.066590",
     "exception": false,
     "start_time": "2021-07-11T07:12:27.029709",
     "status": "completed"
    },
    "tags": []
   },
   "source": [
    "----\n",
    "Dataframe has no NaN values. Lets look at its statistical view. using `describe()`\n",
    "\n",
    "----"
   ]
  },
  {
   "cell_type": "code",
   "execution_count": 7,
   "id": "06d74ea9",
   "metadata": {
    "execution": {
     "iopub.execute_input": "2021-07-11T07:12:27.147558Z",
     "iopub.status.busy": "2021-07-11T07:12:27.144667Z",
     "iopub.status.idle": "2021-07-11T07:12:27.173986Z",
     "shell.execute_reply": "2021-07-11T07:12:27.173459Z",
     "shell.execute_reply.started": "2021-07-11T06:58:25.256499Z"
    },
    "papermill": {
     "duration": 0.07098,
     "end_time": "2021-07-11T07:12:27.174127",
     "exception": false,
     "start_time": "2021-07-11T07:12:27.103147",
     "status": "completed"
    },
    "tags": []
   },
   "outputs": [
    {
     "data": {
      "text/html": [
       "<div>\n",
       "<style scoped>\n",
       "    .dataframe tbody tr th:only-of-type {\n",
       "        vertical-align: middle;\n",
       "    }\n",
       "\n",
       "    .dataframe tbody tr th {\n",
       "        vertical-align: top;\n",
       "    }\n",
       "\n",
       "    .dataframe thead th {\n",
       "        text-align: right;\n",
       "    }\n",
       "</style>\n",
       "<table border=\"1\" class=\"dataframe\">\n",
       "  <thead>\n",
       "    <tr style=\"text-align: right;\">\n",
       "      <th></th>\n",
       "      <th>Postal Code</th>\n",
       "      <th>Sales</th>\n",
       "      <th>Quantity</th>\n",
       "      <th>Discount</th>\n",
       "      <th>Profit</th>\n",
       "    </tr>\n",
       "  </thead>\n",
       "  <tbody>\n",
       "    <tr>\n",
       "      <th>count</th>\n",
       "      <td>9994.000000</td>\n",
       "      <td>9994.000000</td>\n",
       "      <td>9994.000000</td>\n",
       "      <td>9994.000000</td>\n",
       "      <td>9994.000000</td>\n",
       "    </tr>\n",
       "    <tr>\n",
       "      <th>mean</th>\n",
       "      <td>55190.379428</td>\n",
       "      <td>229.858001</td>\n",
       "      <td>3.789574</td>\n",
       "      <td>0.156203</td>\n",
       "      <td>28.656896</td>\n",
       "    </tr>\n",
       "    <tr>\n",
       "      <th>std</th>\n",
       "      <td>32063.693350</td>\n",
       "      <td>623.245101</td>\n",
       "      <td>2.225110</td>\n",
       "      <td>0.206452</td>\n",
       "      <td>234.260108</td>\n",
       "    </tr>\n",
       "    <tr>\n",
       "      <th>min</th>\n",
       "      <td>1040.000000</td>\n",
       "      <td>0.444000</td>\n",
       "      <td>1.000000</td>\n",
       "      <td>0.000000</td>\n",
       "      <td>-6599.978000</td>\n",
       "    </tr>\n",
       "    <tr>\n",
       "      <th>25%</th>\n",
       "      <td>23223.000000</td>\n",
       "      <td>17.280000</td>\n",
       "      <td>2.000000</td>\n",
       "      <td>0.000000</td>\n",
       "      <td>1.728750</td>\n",
       "    </tr>\n",
       "    <tr>\n",
       "      <th>50%</th>\n",
       "      <td>56430.500000</td>\n",
       "      <td>54.490000</td>\n",
       "      <td>3.000000</td>\n",
       "      <td>0.200000</td>\n",
       "      <td>8.666500</td>\n",
       "    </tr>\n",
       "    <tr>\n",
       "      <th>75%</th>\n",
       "      <td>90008.000000</td>\n",
       "      <td>209.940000</td>\n",
       "      <td>5.000000</td>\n",
       "      <td>0.200000</td>\n",
       "      <td>29.364000</td>\n",
       "    </tr>\n",
       "    <tr>\n",
       "      <th>max</th>\n",
       "      <td>99301.000000</td>\n",
       "      <td>22638.480000</td>\n",
       "      <td>14.000000</td>\n",
       "      <td>0.800000</td>\n",
       "      <td>8399.976000</td>\n",
       "    </tr>\n",
       "  </tbody>\n",
       "</table>\n",
       "</div>"
      ],
      "text/plain": [
       "        Postal Code         Sales     Quantity     Discount       Profit\n",
       "count   9994.000000   9994.000000  9994.000000  9994.000000  9994.000000\n",
       "mean   55190.379428    229.858001     3.789574     0.156203    28.656896\n",
       "std    32063.693350    623.245101     2.225110     0.206452   234.260108\n",
       "min     1040.000000      0.444000     1.000000     0.000000 -6599.978000\n",
       "25%    23223.000000     17.280000     2.000000     0.000000     1.728750\n",
       "50%    56430.500000     54.490000     3.000000     0.200000     8.666500\n",
       "75%    90008.000000    209.940000     5.000000     0.200000    29.364000\n",
       "max    99301.000000  22638.480000    14.000000     0.800000  8399.976000"
      ]
     },
     "execution_count": 7,
     "metadata": {},
     "output_type": "execute_result"
    }
   ],
   "source": [
    "df.describe()"
   ]
  },
  {
   "cell_type": "code",
   "execution_count": 8,
   "id": "047658aa",
   "metadata": {
    "execution": {
     "iopub.execute_input": "2021-07-11T07:12:27.258027Z",
     "iopub.status.busy": "2021-07-11T07:12:27.257217Z",
     "iopub.status.idle": "2021-07-11T07:12:27.325354Z",
     "shell.execute_reply": "2021-07-11T07:12:27.325808Z",
     "shell.execute_reply.started": "2021-07-11T06:58:25.320075Z"
    },
    "papermill": {
     "duration": 0.115369,
     "end_time": "2021-07-11T07:12:27.325981",
     "exception": false,
     "start_time": "2021-07-11T07:12:27.210612",
     "status": "completed"
    },
    "tags": []
   },
   "outputs": [
    {
     "data": {
      "text/html": [
       "<div>\n",
       "<style scoped>\n",
       "    .dataframe tbody tr th:only-of-type {\n",
       "        vertical-align: middle;\n",
       "    }\n",
       "\n",
       "    .dataframe tbody tr th {\n",
       "        vertical-align: top;\n",
       "    }\n",
       "\n",
       "    .dataframe thead th {\n",
       "        text-align: right;\n",
       "    }\n",
       "</style>\n",
       "<table border=\"1\" class=\"dataframe\">\n",
       "  <thead>\n",
       "    <tr style=\"text-align: right;\">\n",
       "      <th></th>\n",
       "      <th>Ship Mode</th>\n",
       "      <th>Segment</th>\n",
       "      <th>Country</th>\n",
       "      <th>City</th>\n",
       "      <th>State</th>\n",
       "      <th>Region</th>\n",
       "      <th>Category</th>\n",
       "      <th>Sub-Category</th>\n",
       "    </tr>\n",
       "  </thead>\n",
       "  <tbody>\n",
       "    <tr>\n",
       "      <th>count</th>\n",
       "      <td>9994</td>\n",
       "      <td>9994</td>\n",
       "      <td>9994</td>\n",
       "      <td>9994</td>\n",
       "      <td>9994</td>\n",
       "      <td>9994</td>\n",
       "      <td>9994</td>\n",
       "      <td>9994</td>\n",
       "    </tr>\n",
       "    <tr>\n",
       "      <th>unique</th>\n",
       "      <td>4</td>\n",
       "      <td>3</td>\n",
       "      <td>1</td>\n",
       "      <td>531</td>\n",
       "      <td>49</td>\n",
       "      <td>4</td>\n",
       "      <td>3</td>\n",
       "      <td>17</td>\n",
       "    </tr>\n",
       "    <tr>\n",
       "      <th>top</th>\n",
       "      <td>Standard Class</td>\n",
       "      <td>Consumer</td>\n",
       "      <td>United States</td>\n",
       "      <td>New York City</td>\n",
       "      <td>California</td>\n",
       "      <td>West</td>\n",
       "      <td>Office Supplies</td>\n",
       "      <td>Binders</td>\n",
       "    </tr>\n",
       "    <tr>\n",
       "      <th>freq</th>\n",
       "      <td>5968</td>\n",
       "      <td>5191</td>\n",
       "      <td>9994</td>\n",
       "      <td>915</td>\n",
       "      <td>2001</td>\n",
       "      <td>3203</td>\n",
       "      <td>6026</td>\n",
       "      <td>1523</td>\n",
       "    </tr>\n",
       "  </tbody>\n",
       "</table>\n",
       "</div>"
      ],
      "text/plain": [
       "             Ship Mode   Segment        Country           City       State  \\\n",
       "count             9994      9994           9994           9994        9994   \n",
       "unique               4         3              1            531          49   \n",
       "top     Standard Class  Consumer  United States  New York City  California   \n",
       "freq              5968      5191           9994            915        2001   \n",
       "\n",
       "       Region         Category Sub-Category  \n",
       "count    9994             9994         9994  \n",
       "unique      4                3           17  \n",
       "top      West  Office Supplies      Binders  \n",
       "freq     3203             6026         1523  "
      ]
     },
     "execution_count": 8,
     "metadata": {},
     "output_type": "execute_result"
    }
   ],
   "source": [
    "df.describe(include='object')"
   ]
  },
  {
   "cell_type": "code",
   "execution_count": 9,
   "id": "324bdd86",
   "metadata": {
    "execution": {
     "iopub.execute_input": "2021-07-11T07:12:27.403751Z",
     "iopub.status.busy": "2021-07-11T07:12:27.402777Z",
     "iopub.status.idle": "2021-07-11T07:12:27.422633Z",
     "shell.execute_reply": "2021-07-11T07:12:27.422098Z",
     "shell.execute_reply.started": "2021-07-11T06:58:25.386007Z"
    },
    "papermill": {
     "duration": 0.059775,
     "end_time": "2021-07-11T07:12:27.422789",
     "exception": false,
     "start_time": "2021-07-11T07:12:27.363014",
     "status": "completed"
    },
    "tags": []
   },
   "outputs": [
    {
     "data": {
      "text/plain": [
       "17"
      ]
     },
     "execution_count": 9,
     "metadata": {},
     "output_type": "execute_result"
    }
   ],
   "source": [
    "df.duplicated().sum()"
   ]
  },
  {
   "cell_type": "markdown",
   "id": "847fdbb4",
   "metadata": {
    "papermill": {
     "duration": 0.036946,
     "end_time": "2021-07-11T07:12:27.497081",
     "exception": false,
     "start_time": "2021-07-11T07:12:27.460135",
     "status": "completed"
    },
    "tags": []
   },
   "source": [
    "----\n",
    "The dataframe have 17 dupplicates values. Lets remove them first using `drop_duplicates()`\n",
    "\n",
    "----"
   ]
  },
  {
   "cell_type": "code",
   "execution_count": 10,
   "id": "f5daceb8",
   "metadata": {
    "execution": {
     "iopub.execute_input": "2021-07-11T07:12:27.577006Z",
     "iopub.status.busy": "2021-07-11T07:12:27.576359Z",
     "iopub.status.idle": "2021-07-11T07:12:27.593577Z",
     "shell.execute_reply": "2021-07-11T07:12:27.593001Z",
     "shell.execute_reply.started": "2021-07-11T06:58:25.409908Z"
    },
    "papermill": {
     "duration": 0.059638,
     "end_time": "2021-07-11T07:12:27.593758",
     "exception": false,
     "start_time": "2021-07-11T07:12:27.534120",
     "status": "completed"
    },
    "tags": []
   },
   "outputs": [],
   "source": [
    "df.drop_duplicates(inplace= True)"
   ]
  },
  {
   "cell_type": "code",
   "execution_count": 11,
   "id": "ce3e5cf3",
   "metadata": {
    "execution": {
     "iopub.execute_input": "2021-07-11T07:12:27.673554Z",
     "iopub.status.busy": "2021-07-11T07:12:27.672871Z",
     "iopub.status.idle": "2021-07-11T07:12:27.675643Z",
     "shell.execute_reply": "2021-07-11T07:12:27.676227Z",
     "shell.execute_reply.started": "2021-07-11T06:58:25.430650Z"
    },
    "papermill": {
     "duration": 0.045536,
     "end_time": "2021-07-11T07:12:27.676412",
     "exception": false,
     "start_time": "2021-07-11T07:12:27.630876",
     "status": "completed"
    },
    "tags": []
   },
   "outputs": [
    {
     "data": {
      "text/plain": [
       "(9977, 13)"
      ]
     },
     "execution_count": 11,
     "metadata": {},
     "output_type": "execute_result"
    }
   ],
   "source": [
    "df.shape"
   ]
  },
  {
   "cell_type": "markdown",
   "id": "89044a4d",
   "metadata": {
    "papermill": {
     "duration": 0.037107,
     "end_time": "2021-07-11T07:12:27.750978",
     "exception": false,
     "start_time": "2021-07-11T07:12:27.713871",
     "status": "completed"
    },
    "tags": []
   },
   "source": [
    "----\n",
    "Shape has been reduced to `(9977,13)`.\n",
    "\n",
    "Now we will check number of unique values for every column using `value_counts()`\n",
    "\n",
    "---"
   ]
  },
  {
   "cell_type": "code",
   "execution_count": 12,
   "id": "07d20189",
   "metadata": {
    "execution": {
     "iopub.execute_input": "2021-07-11T07:12:27.830452Z",
     "iopub.status.busy": "2021-07-11T07:12:27.829794Z",
     "iopub.status.idle": "2021-07-11T07:12:27.868502Z",
     "shell.execute_reply": "2021-07-11T07:12:27.868953Z",
     "shell.execute_reply.started": "2021-07-11T06:58:25.485194Z"
    },
    "papermill": {
     "duration": 0.080748,
     "end_time": "2021-07-11T07:12:27.869133",
     "exception": false,
     "start_time": "2021-07-11T07:12:27.788385",
     "status": "completed"
    },
    "tags": []
   },
   "outputs": [
    {
     "data": {
      "text/html": [
       "<div>\n",
       "<style scoped>\n",
       "    .dataframe tbody tr th:only-of-type {\n",
       "        vertical-align: middle;\n",
       "    }\n",
       "\n",
       "    .dataframe tbody tr th {\n",
       "        vertical-align: top;\n",
       "    }\n",
       "\n",
       "    .dataframe thead th {\n",
       "        text-align: right;\n",
       "    }\n",
       "</style>\n",
       "<table border=\"1\" class=\"dataframe\">\n",
       "  <thead>\n",
       "    <tr style=\"text-align: right;\">\n",
       "      <th></th>\n",
       "      <th>Unique Counts</th>\n",
       "    </tr>\n",
       "  </thead>\n",
       "  <tbody>\n",
       "    <tr>\n",
       "      <th>Ship Mode</th>\n",
       "      <td>4</td>\n",
       "    </tr>\n",
       "    <tr>\n",
       "      <th>Segment</th>\n",
       "      <td>3</td>\n",
       "    </tr>\n",
       "    <tr>\n",
       "      <th>Country</th>\n",
       "      <td>1</td>\n",
       "    </tr>\n",
       "    <tr>\n",
       "      <th>City</th>\n",
       "      <td>531</td>\n",
       "    </tr>\n",
       "    <tr>\n",
       "      <th>State</th>\n",
       "      <td>49</td>\n",
       "    </tr>\n",
       "    <tr>\n",
       "      <th>Postal Code</th>\n",
       "      <td>631</td>\n",
       "    </tr>\n",
       "    <tr>\n",
       "      <th>Region</th>\n",
       "      <td>4</td>\n",
       "    </tr>\n",
       "    <tr>\n",
       "      <th>Category</th>\n",
       "      <td>3</td>\n",
       "    </tr>\n",
       "    <tr>\n",
       "      <th>Sub-Category</th>\n",
       "      <td>17</td>\n",
       "    </tr>\n",
       "    <tr>\n",
       "      <th>Sales</th>\n",
       "      <td>5825</td>\n",
       "    </tr>\n",
       "    <tr>\n",
       "      <th>Quantity</th>\n",
       "      <td>14</td>\n",
       "    </tr>\n",
       "    <tr>\n",
       "      <th>Discount</th>\n",
       "      <td>12</td>\n",
       "    </tr>\n",
       "    <tr>\n",
       "      <th>Profit</th>\n",
       "      <td>7287</td>\n",
       "    </tr>\n",
       "  </tbody>\n",
       "</table>\n",
       "</div>"
      ],
      "text/plain": [
       "              Unique Counts\n",
       "Ship Mode                 4\n",
       "Segment                   3\n",
       "Country                   1\n",
       "City                    531\n",
       "State                    49\n",
       "Postal Code             631\n",
       "Region                    4\n",
       "Category                  3\n",
       "Sub-Category             17\n",
       "Sales                  5825\n",
       "Quantity                 14\n",
       "Discount                 12\n",
       "Profit                 7287"
      ]
     },
     "execution_count": 12,
     "metadata": {},
     "output_type": "execute_result"
    }
   ],
   "source": [
    "dict = {}\n",
    "for x in list(df.columns):\n",
    "    dict[x] = df[x].value_counts().shape[0]\n",
    "\n",
    "pd.DataFrame(dict, index=[\"Unique Counts\"]).transpose()"
   ]
  },
  {
   "cell_type": "code",
   "execution_count": 13,
   "id": "9efd9137",
   "metadata": {
    "execution": {
     "iopub.execute_input": "2021-07-11T07:12:27.949165Z",
     "iopub.status.busy": "2021-07-11T07:12:27.948535Z",
     "iopub.status.idle": "2021-07-11T07:12:28.313023Z",
     "shell.execute_reply": "2021-07-11T07:12:28.313725Z",
     "shell.execute_reply.started": "2021-07-11T06:58:25.535299Z"
    },
    "papermill": {
     "duration": 0.406088,
     "end_time": "2021-07-11T07:12:28.313913",
     "exception": false,
     "start_time": "2021-07-11T07:12:27.907825",
     "status": "completed"
    },
    "tags": []
   },
   "outputs": [
    {
     "data": {
      "image/png": "[encoded data removed]",
      "text/plain": [
       "<Figure size 432x288 with 2 Axes>"
      ]
     },
     "metadata": {
      "needs_background": "light"
     },
     "output_type": "display_data"
    }
   ],
   "source": [
    "sns.heatmap(df.corr(), annot = True, cmap = 'Blues', lw = 8, linecolor = 'white');"
   ]
  },
  {
   "cell_type": "markdown",
   "id": "43dcf507",
   "metadata": {
    "papermill": {
     "duration": 0.039094,
     "end_time": "2021-07-11T07:12:28.392609",
     "exception": false,
     "start_time": "2021-07-11T07:12:28.353515",
     "status": "completed"
    },
    "tags": []
   },
   "source": [
    "----\n",
    "#### **Analysis:**\n",
    "We can notice `sales` is fairly related to `profit` and `discount` is negatively related to `profit`.\n",
    "\n",
    "**Intrepreted as**  higher sales and lesser discounts leads to `more profit`.\n",
    "\n",
    "It is also noticable that `postal code` has nothing to do with overall `profit`\n",
    "\n",
    "---"
   ]
  },
  {
   "cell_type": "markdown",
   "id": "5136fb74",
   "metadata": {
    "papermill": {
     "duration": 0.03924,
     "end_time": "2021-07-11T07:12:28.471137",
     "exception": false,
     "start_time": "2021-07-11T07:12:28.431897",
     "status": "completed"
    },
    "tags": []
   },
   "source": [
    "## **Univariate Analysis**\n",
    "\n",
    "Since univariate analysis deal with one variable at a time, we will check frequency of most of the columns, using `subplots`."
   ]
  },
  {
   "cell_type": "code",
   "execution_count": 14,
   "id": "94d327e7",
   "metadata": {
    "execution": {
     "iopub.execute_input": "2021-07-11T07:12:28.552828Z",
     "iopub.status.busy": "2021-07-11T07:12:28.552110Z",
     "iopub.status.idle": "2021-07-11T07:12:29.974796Z",
     "shell.execute_reply": "2021-07-11T07:12:29.974150Z",
     "shell.execute_reply.started": "2021-07-11T06:58:25.931822Z"
    },
    "papermill": {
     "duration": 1.464504,
     "end_time": "2021-07-11T07:12:29.974931",
     "exception": false,
     "start_time": "2021-07-11T07:12:28.510427",
     "status": "completed"
    },
    "tags": []
   },
   "outputs": [
    {
     "data": {
      "image/png": "[encoded data removed]",
      "text/plain": [
       "<Figure size 864x1296 with 6 Axes>"
      ]
     },
     "metadata": {
      "needs_background": "light"
     },
     "output_type": "display_data"
    }
   ],
   "source": [
    "fig, axes = plt.subplots(3,2, figsize = (12,18))\n",
    "sns.set_theme(style=\"darkgrid\")\n",
    "axes[0,0].set_title(\"Ship mode\")\n",
    "axes[0,1].set_title(\"segment\")\n",
    "axes[1,0].set_title(\"Region\")\n",
    "axes[1,1].set_title(\"Category\")\n",
    "axes[2,0].set_title(\"Sub-category\")\n",
    "axes[2,1].set_title(\"Quantity\")\n",
    "\n",
    "sns.countplot(x=df['Ship Mode'],\n",
    "              palette = 'copper',\n",
    "              orient='h',\n",
    "              ax=axes[0,0])\n",
    "\n",
    "sns.countplot(x=df['Segment'],\n",
    "              palette = 'copper_r',\n",
    "              orient='h',\n",
    "              ax=axes[0,1])\n",
    "\n",
    "sns.countplot(x=df['Region'],\n",
    "              palette = 'winter',\n",
    "              orient='h',\n",
    "              ax=axes[1,0])\n",
    "\n",
    "sns.countplot(x=df['Category'],\n",
    "              palette = 'winter_r',\n",
    "              orient='h',\n",
    "              ax=axes[1,1])\n",
    "\n",
    "sns.countplot(x=df['Sub-Category'],\n",
    "              palette = 'cividis',\n",
    "              orient='h',\n",
    "              ax=axes[2,0])\n",
    "\n",
    "sns.countplot(x=df['Quantity'],\n",
    "              palette = 'cividis_r',\n",
    "              orient='h',\n",
    "              ax=axes[2,1])\n",
    "\n",
    "axes[2,0].set_xticklabels(list(df['Sub-Category'].unique()), rotation=90)\n",
    "\n",
    "plt.tight_layout(pad=2);"
   ]
  },
  {
   "cell_type": "markdown",
   "id": "04a18042",
   "metadata": {
    "papermill": {
     "duration": 0.041087,
     "end_time": "2021-07-11T07:12:30.058269",
     "exception": false,
     "start_time": "2021-07-11T07:12:30.017182",
     "status": "completed"
    },
    "tags": []
   },
   "source": [
    "---\n",
    "#### **Analysis:**\n",
    "\n",
    "* `Standard class` ship-mode is more preferred.\n",
    "* `Consumer` is the majority segment.\n",
    "* Superstores are more in `west` and least in `south`\n",
    "* In category-wise, `office supplies` holds the majority.\n",
    "* Top-selling sub-categories are `binders`, `paper`.\n",
    "* Prople mostly go for 2 or 3 `quanitites`.\n",
    "\n",
    "---"
   ]
  },
  {
   "cell_type": "markdown",
   "id": "b3654890",
   "metadata": {
    "papermill": {
     "duration": 0.041047,
     "end_time": "2021-07-11T07:12:30.140883",
     "exception": false,
     "start_time": "2021-07-11T07:12:30.099836",
     "status": "completed"
    },
    "tags": []
   },
   "source": [
    "## **Bivariate Analysis**\n",
    "\n",
    "We will be comparing other features to `profit`, `sales` and `quantities` to get a visual idea about what affects the profit most."
   ]
  },
  {
   "cell_type": "markdown",
   "id": "93ea9ae7",
   "metadata": {
    "papermill": {
     "duration": 0.040899,
     "end_time": "2021-07-11T07:12:30.223020",
     "exception": false,
     "start_time": "2021-07-11T07:12:30.182121",
     "status": "completed"
    },
    "tags": []
   },
   "source": [
    "## 1. Ship-Mode"
   ]
  },
  {
   "cell_type": "code",
   "execution_count": 15,
   "id": "3423e569",
   "metadata": {
    "execution": {
     "iopub.execute_input": "2021-07-11T07:12:30.313205Z",
     "iopub.status.busy": "2021-07-11T07:12:30.312565Z",
     "iopub.status.idle": "2021-07-11T07:12:30.327851Z",
     "shell.execute_reply": "2021-07-11T07:12:30.327298Z",
     "shell.execute_reply.started": "2021-07-11T06:58:27.915732Z"
    },
    "papermill": {
     "duration": 0.06354,
     "end_time": "2021-07-11T07:12:30.328001",
     "exception": false,
     "start_time": "2021-07-11T07:12:30.264461",
     "status": "completed"
    },
    "tags": []
   },
   "outputs": [
    {
     "data": {
      "text/html": [
       "<div>\n",
       "<style scoped>\n",
       "    .dataframe tbody tr th:only-of-type {\n",
       "        vertical-align: middle;\n",
       "    }\n",
       "\n",
       "    .dataframe tbody tr th {\n",
       "        vertical-align: top;\n",
       "    }\n",
       "\n",
       "    .dataframe thead th {\n",
       "        text-align: right;\n",
       "    }\n",
       "</style>\n",
       "<table border=\"1\" class=\"dataframe\">\n",
       "  <thead>\n",
       "    <tr style=\"text-align: right;\">\n",
       "      <th></th>\n",
       "      <th>Profit</th>\n",
       "      <th>Sales</th>\n",
       "      <th>Quantity</th>\n",
       "    </tr>\n",
       "    <tr>\n",
       "      <th>Ship Mode</th>\n",
       "      <th></th>\n",
       "      <th></th>\n",
       "      <th></th>\n",
       "    </tr>\n",
       "  </thead>\n",
       "  <tbody>\n",
       "    <tr>\n",
       "      <th>First Class</th>\n",
       "      <td>48953.6561</td>\n",
       "      <td>3.513805e+05</td>\n",
       "      <td>5690</td>\n",
       "    </tr>\n",
       "    <tr>\n",
       "      <th>Same Day</th>\n",
       "      <td>15871.8869</td>\n",
       "      <td>1.283217e+05</td>\n",
       "      <td>1956</td>\n",
       "    </tr>\n",
       "    <tr>\n",
       "      <th>Second Class</th>\n",
       "      <td>57446.6516</td>\n",
       "      <td>4.591770e+05</td>\n",
       "      <td>7418</td>\n",
       "    </tr>\n",
       "    <tr>\n",
       "      <th>Standard Class</th>\n",
       "      <td>163969.2280</td>\n",
       "      <td>1.357316e+06</td>\n",
       "      <td>22756</td>\n",
       "    </tr>\n",
       "  </tbody>\n",
       "</table>\n",
       "</div>"
      ],
      "text/plain": [
       "                     Profit         Sales  Quantity\n",
       "Ship Mode                                          \n",
       "First Class      48953.6561  3.513805e+05      5690\n",
       "Same Day         15871.8869  1.283217e+05      1956\n",
       "Second Class     57446.6516  4.591770e+05      7418\n",
       "Standard Class  163969.2280  1.357316e+06     22756"
      ]
     },
     "execution_count": 15,
     "metadata": {},
     "output_type": "execute_result"
    }
   ],
   "source": [
    "ship_df = pd.DataFrame(df.groupby(['Ship Mode'])[['Profit','Sales', 'Quantity']].sum())\n",
    "ship_df"
   ]
  },
  {
   "cell_type": "code",
   "execution_count": 16,
   "id": "9633b8dd",
   "metadata": {
    "execution": {
     "iopub.execute_input": "2021-07-11T07:12:30.437765Z",
     "iopub.status.busy": "2021-07-11T07:12:30.437028Z",
     "iopub.status.idle": "2021-07-11T07:12:31.054868Z",
     "shell.execute_reply": "2021-07-11T07:12:31.054358Z",
     "shell.execute_reply.started": "2021-07-11T06:58:27.938171Z"
    },
    "papermill": {
     "duration": 0.684792,
     "end_time": "2021-07-11T07:12:31.055004",
     "exception": false,
     "start_time": "2021-07-11T07:12:30.370212",
     "status": "completed"
    },
    "tags": []
   },
   "outputs": [
    {
     "data": {
      "image/png": "[encoded data removed]",
      "text/plain": [
       "<Figure size 576x1008 with 3 Axes>"
      ]
     },
     "metadata": {},
     "output_type": "display_data"
    }
   ],
   "source": [
    "fig, axes = plt.subplots(3,1, figsize=(8,14))\n",
    "sns.set_theme(style=\"darkgrid\")\n",
    "axes[0].set_title(\"Ship mode to Profit\")\n",
    "axes[1].set_title(\"Ship mode to Sales\")\n",
    "axes[2].set_title(\"Ship mode to Quantity\")\n",
    "\n",
    "sns.barplot(x=ship_df.index,\n",
    "           y=ship_df['Profit'],\n",
    "           data= ship_df,\n",
    "            palette = 'Spectral_r',\n",
    "           ax = axes[0]);\n",
    "\n",
    "sns.barplot(x=ship_df.index,\n",
    "           y=ship_df['Sales'],\n",
    "           data= ship_df,\n",
    "            palette = 'Spectral_r',\n",
    "           ax = axes[1]);\n",
    "\n",
    "sns.barplot(x=ship_df.index,\n",
    "           y=ship_df['Quantity'],\n",
    "           data= ship_df,\n",
    "            palette = 'Spectral_r',\n",
    "           ax = axes[2])\n",
    "\n",
    "plt.tight_layout(pad=2);"
   ]
  },
  {
   "cell_type": "markdown",
   "id": "cf860609",
   "metadata": {
    "papermill": {
     "duration": 0.043621,
     "end_time": "2021-07-11T07:12:31.143053",
     "exception": false,
     "start_time": "2021-07-11T07:12:31.099432",
     "status": "completed"
    },
    "tags": []
   },
   "source": [
    "---\n",
    "**Analysis:**\n",
    "\n",
    "`Standard class` ship-mode is more preferred. Maybe it is cheap and efficient.\n",
    "\n",
    "---"
   ]
  },
  {
   "cell_type": "markdown",
   "id": "f584dacd",
   "metadata": {
    "papermill": {
     "duration": 0.043285,
     "end_time": "2021-07-11T07:12:31.230352",
     "exception": false,
     "start_time": "2021-07-11T07:12:31.187067",
     "status": "completed"
    },
    "tags": []
   },
   "source": [
    "## 2. Segment"
   ]
  },
  {
   "cell_type": "code",
   "execution_count": 17,
   "id": "2d053982",
   "metadata": {
    "execution": {
     "iopub.execute_input": "2021-07-11T07:12:31.327026Z",
     "iopub.status.busy": "2021-07-11T07:12:31.326253Z",
     "iopub.status.idle": "2021-07-11T07:12:31.336872Z",
     "shell.execute_reply": "2021-07-11T07:12:31.337380Z",
     "shell.execute_reply.started": "2021-07-11T06:58:28.620514Z"
    },
    "papermill": {
     "duration": 0.063438,
     "end_time": "2021-07-11T07:12:31.337544",
     "exception": false,
     "start_time": "2021-07-11T07:12:31.274106",
     "status": "completed"
    },
    "tags": []
   },
   "outputs": [
    {
     "data": {
      "text/html": [
       "<div>\n",
       "<style scoped>\n",
       "    .dataframe tbody tr th:only-of-type {\n",
       "        vertical-align: middle;\n",
       "    }\n",
       "\n",
       "    .dataframe tbody tr th {\n",
       "        vertical-align: top;\n",
       "    }\n",
       "\n",
       "    .dataframe thead th {\n",
       "        text-align: right;\n",
       "    }\n",
       "</style>\n",
       "<table border=\"1\" class=\"dataframe\">\n",
       "  <thead>\n",
       "    <tr style=\"text-align: right;\">\n",
       "      <th></th>\n",
       "      <th>Profit</th>\n",
       "      <th>Sales</th>\n",
       "      <th>Quantity</th>\n",
       "    </tr>\n",
       "    <tr>\n",
       "      <th>Segment</th>\n",
       "      <th></th>\n",
       "      <th></th>\n",
       "      <th></th>\n",
       "    </tr>\n",
       "  </thead>\n",
       "  <tbody>\n",
       "    <tr>\n",
       "      <th>Consumer</th>\n",
       "      <td>134007.4413</td>\n",
       "      <td>1.160833e+06</td>\n",
       "      <td>19497</td>\n",
       "    </tr>\n",
       "    <tr>\n",
       "      <th>Corporate</th>\n",
       "      <td>91954.9798</td>\n",
       "      <td>7.060701e+05</td>\n",
       "      <td>11591</td>\n",
       "    </tr>\n",
       "    <tr>\n",
       "      <th>Home Office</th>\n",
       "      <td>60279.0015</td>\n",
       "      <td>4.292927e+05</td>\n",
       "      <td>6732</td>\n",
       "    </tr>\n",
       "  </tbody>\n",
       "</table>\n",
       "</div>"
      ],
      "text/plain": [
       "                  Profit         Sales  Quantity\n",
       "Segment                                         \n",
       "Consumer     134007.4413  1.160833e+06     19497\n",
       "Corporate     91954.9798  7.060701e+05     11591\n",
       "Home Office   60279.0015  4.292927e+05      6732"
      ]
     },
     "execution_count": 17,
     "metadata": {},
     "output_type": "execute_result"
    }
   ],
   "source": [
    "segment_df = pd.DataFrame(df.groupby(['Segment'])[['Profit', 'Sales', 'Quantity']].sum())\n",
    "segment_df"
   ]
  },
  {
   "cell_type": "code",
   "execution_count": 18,
   "id": "ac1443c7",
   "metadata": {
    "execution": {
     "iopub.execute_input": "2021-07-11T07:12:31.429020Z",
     "iopub.status.busy": "2021-07-11T07:12:31.428399Z",
     "iopub.status.idle": "2021-07-11T07:12:32.021305Z",
     "shell.execute_reply": "2021-07-11T07:12:32.021840Z",
     "shell.execute_reply.started": "2021-07-11T06:58:28.639561Z"
    },
    "papermill": {
     "duration": 0.640464,
     "end_time": "2021-07-11T07:12:32.022021",
     "exception": false,
     "start_time": "2021-07-11T07:12:31.381557",
     "status": "completed"
    },
    "tags": []
   },
   "outputs": [
    {
     "data": {
      "image/png": "[encoded data removed]",
      "text/plain": [
       "<Figure size 864x432 with 3 Axes>"
      ]
     },
     "metadata": {},
     "output_type": "display_data"
    }
   ],
   "source": [
    "fig, axes = plt.subplots(1,3, figsize=(12,6))\n",
    "\n",
    "sns.set_theme(style=\"darkgrid\")\n",
    "axes[0].set_title(\"Segment to Profit\")\n",
    "axes[1].set_title(\"Segment to Sales\")\n",
    "axes[2].set_title(\"Segment to Quantity\")\n",
    "\n",
    "sns.barplot(x=segment_df.index,\n",
    "           y=segment_df['Profit'],\n",
    "           data= segment_df,\n",
    "            palette = 'Reds_r',\n",
    "           ax= axes[0])\n",
    "\n",
    "sns.barplot(x=segment_df.index,\n",
    "           y=segment_df['Sales'],\n",
    "           data= segment_df,\n",
    "            palette = 'Reds_r',\n",
    "           ax= axes[1])\n",
    "\n",
    "sns.barplot(x=segment_df.index,\n",
    "           y=segment_df['Quantity'],\n",
    "           data= segment_df,\n",
    "            palette = 'Reds_r',\n",
    "           ax= axes[2])\n",
    "\n",
    "plt.tight_layout(pad=2);"
   ]
  },
  {
   "cell_type": "markdown",
   "id": "2a02b736",
   "metadata": {
    "papermill": {
     "duration": 0.046029,
     "end_time": "2021-07-11T07:12:32.114802",
     "exception": false,
     "start_time": "2021-07-11T07:12:32.068773",
     "status": "completed"
    },
    "tags": []
   },
   "source": [
    "---\n",
    "**Analysis:**\n",
    "\n",
    "`Consumer` segment is most profitable, followed by Corporate Segment and home offices. Hence, marketing strategy has to target or place more focus on retaining `consumers`.\n",
    "\n",
    "---"
   ]
  },
  {
   "cell_type": "markdown",
   "id": "500c8457",
   "metadata": {
    "papermill": {
     "duration": 0.044946,
     "end_time": "2021-07-11T07:12:32.205211",
     "exception": false,
     "start_time": "2021-07-11T07:12:32.160265",
     "status": "completed"
    },
    "tags": []
   },
   "source": [
    "## 3. Region"
   ]
  },
  {
   "cell_type": "code",
   "execution_count": 19,
   "id": "940d25de",
   "metadata": {
    "execution": {
     "iopub.execute_input": "2021-07-11T07:12:32.299984Z",
     "iopub.status.busy": "2021-07-11T07:12:32.299353Z",
     "iopub.status.idle": "2021-07-11T07:12:32.314937Z",
     "shell.execute_reply": "2021-07-11T07:12:32.315481Z",
     "shell.execute_reply.started": "2021-07-11T06:58:29.250637Z"
    },
    "papermill": {
     "duration": 0.064305,
     "end_time": "2021-07-11T07:12:32.315679",
     "exception": false,
     "start_time": "2021-07-11T07:12:32.251374",
     "status": "completed"
    },
    "tags": []
   },
   "outputs": [
    {
     "data": {
      "text/html": [
       "<div>\n",
       "<style scoped>\n",
       "    .dataframe tbody tr th:only-of-type {\n",
       "        vertical-align: middle;\n",
       "    }\n",
       "\n",
       "    .dataframe tbody tr th {\n",
       "        vertical-align: top;\n",
       "    }\n",
       "\n",
       "    .dataframe thead th {\n",
       "        text-align: right;\n",
       "    }\n",
       "</style>\n",
       "<table border=\"1\" class=\"dataframe\">\n",
       "  <thead>\n",
       "    <tr style=\"text-align: right;\">\n",
       "      <th></th>\n",
       "      <th>Profit</th>\n",
       "      <th>Sales</th>\n",
       "      <th>Quantity</th>\n",
       "    </tr>\n",
       "    <tr>\n",
       "      <th>Region</th>\n",
       "      <th></th>\n",
       "      <th></th>\n",
       "      <th></th>\n",
       "    </tr>\n",
       "  </thead>\n",
       "  <tbody>\n",
       "    <tr>\n",
       "      <th>Central</th>\n",
       "      <td>39655.8752</td>\n",
       "      <td>500782.8528</td>\n",
       "      <td>8768</td>\n",
       "    </tr>\n",
       "    <tr>\n",
       "      <th>East</th>\n",
       "      <td>91506.3092</td>\n",
       "      <td>678435.1960</td>\n",
       "      <td>10609</td>\n",
       "    </tr>\n",
       "    <tr>\n",
       "      <th>South</th>\n",
       "      <td>46749.4303</td>\n",
       "      <td>391721.9050</td>\n",
       "      <td>6209</td>\n",
       "    </tr>\n",
       "    <tr>\n",
       "      <th>West</th>\n",
       "      <td>108329.8079</td>\n",
       "      <td>725255.6365</td>\n",
       "      <td>12234</td>\n",
       "    </tr>\n",
       "  </tbody>\n",
       "</table>\n",
       "</div>"
      ],
      "text/plain": [
       "              Profit        Sales  Quantity\n",
       "Region                                     \n",
       "Central   39655.8752  500782.8528      8768\n",
       "East      91506.3092  678435.1960     10609\n",
       "South     46749.4303  391721.9050      6209\n",
       "West     108329.8079  725255.6365     12234"
      ]
     },
     "execution_count": 19,
     "metadata": {},
     "output_type": "execute_result"
    }
   ],
   "source": [
    "region_df = pd.DataFrame(df.groupby(['Region'])[['Profit', 'Sales', 'Quantity']].sum())\n",
    "region_df"
   ]
  },
  {
   "cell_type": "code",
   "execution_count": 20,
   "id": "86b0d3c9",
   "metadata": {
    "execution": {
     "iopub.execute_input": "2021-07-11T07:12:32.412454Z",
     "iopub.status.busy": "2021-07-11T07:12:32.411724Z",
     "iopub.status.idle": "2021-07-11T07:12:33.028199Z",
     "shell.execute_reply": "2021-07-11T07:12:33.027506Z",
     "shell.execute_reply.started": "2021-07-11T06:58:29.270362Z"
    },
    "papermill": {
     "duration": 0.665166,
     "end_time": "2021-07-11T07:12:33.028363",
     "exception": false,
     "start_time": "2021-07-11T07:12:32.363197",
     "status": "completed"
    },
    "tags": []
   },
   "outputs": [
    {
     "data": {
      "image/png": "[encoded data removed]",
      "text/plain": [
       "<Figure size 1008x360 with 3 Axes>"
      ]
     },
     "metadata": {},
     "output_type": "display_data"
    }
   ],
   "source": [
    "fig, axes = plt.subplots(1,3, figsize=(14,5))\n",
    "\n",
    "sns.set_theme(style=\"darkgrid\")\n",
    "axes[0].set_title(\"Region vs Profit\")\n",
    "axes[1].set_title(\"Region vs Sales\")\n",
    "axes[2].set_title(\"Region vs Quantity\")\n",
    "\n",
    "sns.barplot(x=region_df.index,\n",
    "           y='Profit',\n",
    "           data=region_df,\n",
    "           palette='Paired',\n",
    "           ax=axes[0])\n",
    "\n",
    "sns.barplot(x=region_df.index,\n",
    "           y='Sales',\n",
    "           data=region_df,\n",
    "           palette='Paired',\n",
    "           ax=axes[1])\n",
    "\n",
    "sns.barplot(x=region_df.index,\n",
    "           y='Quantity',\n",
    "           data=region_df,\n",
    "           palette='Paired',\n",
    "           ax=axes[2])\n",
    "\n",
    "plt.tight_layout(pad=1);"
   ]
  },
  {
   "cell_type": "markdown",
   "id": "1b977795",
   "metadata": {
    "papermill": {
     "duration": 0.047517,
     "end_time": "2021-07-11T07:12:33.123306",
     "exception": false,
     "start_time": "2021-07-11T07:12:33.075789",
     "status": "completed"
    },
    "tags": []
   },
   "source": [
    "---\n",
    "**Analysis:**\n",
    "\n",
    "Among every region, west and east region recorded more profit. So, strategy should focus more on `east` and `west` region.\n",
    "\n",
    "---"
   ]
  },
  {
   "cell_type": "markdown",
   "id": "f4fadc20",
   "metadata": {
    "papermill": {
     "duration": 0.046674,
     "end_time": "2021-07-11T07:12:33.217351",
     "exception": false,
     "start_time": "2021-07-11T07:12:33.170677",
     "status": "completed"
    },
    "tags": []
   },
   "source": [
    "## 4. Category"
   ]
  },
  {
   "cell_type": "code",
   "execution_count": 21,
   "id": "8f10d3e1",
   "metadata": {
    "execution": {
     "iopub.execute_input": "2021-07-11T07:12:33.320688Z",
     "iopub.status.busy": "2021-07-11T07:12:33.319940Z",
     "iopub.status.idle": "2021-07-11T07:12:33.331081Z",
     "shell.execute_reply": "2021-07-11T07:12:33.331642Z",
     "shell.execute_reply.started": "2021-07-11T06:58:29.894748Z"
    },
    "papermill": {
     "duration": 0.067128,
     "end_time": "2021-07-11T07:12:33.331810",
     "exception": false,
     "start_time": "2021-07-11T07:12:33.264682",
     "status": "completed"
    },
    "tags": []
   },
   "outputs": [
    {
     "data": {
      "text/html": [
       "<div>\n",
       "<style scoped>\n",
       "    .dataframe tbody tr th:only-of-type {\n",
       "        vertical-align: middle;\n",
       "    }\n",
       "\n",
       "    .dataframe tbody tr th {\n",
       "        vertical-align: top;\n",
       "    }\n",
       "\n",
       "    .dataframe thead th {\n",
       "        text-align: right;\n",
       "    }\n",
       "</style>\n",
       "<table border=\"1\" class=\"dataframe\">\n",
       "  <thead>\n",
       "    <tr style=\"text-align: right;\">\n",
       "      <th></th>\n",
       "      <th>Profit</th>\n",
       "      <th>Sales</th>\n",
       "      <th>Quantity</th>\n",
       "    </tr>\n",
       "    <tr>\n",
       "      <th>Category</th>\n",
       "      <th></th>\n",
       "      <th></th>\n",
       "      <th></th>\n",
       "    </tr>\n",
       "  </thead>\n",
       "  <tbody>\n",
       "    <tr>\n",
       "      <th>Furniture</th>\n",
       "      <td>18421.8137</td>\n",
       "      <td>741306.3133</td>\n",
       "      <td>8020</td>\n",
       "    </tr>\n",
       "    <tr>\n",
       "      <th>Office Supplies</th>\n",
       "      <td>122364.6608</td>\n",
       "      <td>718735.2440</td>\n",
       "      <td>22861</td>\n",
       "    </tr>\n",
       "    <tr>\n",
       "      <th>Technology</th>\n",
       "      <td>145454.9481</td>\n",
       "      <td>836154.0330</td>\n",
       "      <td>6939</td>\n",
       "    </tr>\n",
       "  </tbody>\n",
       "</table>\n",
       "</div>"
      ],
      "text/plain": [
       "                      Profit        Sales  Quantity\n",
       "Category                                           \n",
       "Furniture         18421.8137  741306.3133      8020\n",
       "Office Supplies  122364.6608  718735.2440     22861\n",
       "Technology       145454.9481  836154.0330      6939"
      ]
     },
     "execution_count": 21,
     "metadata": {},
     "output_type": "execute_result"
    }
   ],
   "source": [
    "category_df = pd.DataFrame(df.groupby(['Category'])[['Profit', 'Sales', 'Quantity']].sum())\n",
    "category_df"
   ]
  },
  {
   "cell_type": "code",
   "execution_count": 22,
   "id": "ede35984",
   "metadata": {
    "execution": {
     "iopub.execute_input": "2021-07-11T07:12:33.430589Z",
     "iopub.status.busy": "2021-07-11T07:12:33.429603Z",
     "iopub.status.idle": "2021-07-11T07:12:34.157009Z",
     "shell.execute_reply": "2021-07-11T07:12:34.157527Z",
     "shell.execute_reply.started": "2021-07-11T06:58:29.914303Z"
    },
    "papermill": {
     "duration": 0.778223,
     "end_time": "2021-07-11T07:12:34.157703",
     "exception": false,
     "start_time": "2021-07-11T07:12:33.379480",
     "status": "completed"
    },
    "tags": []
   },
   "outputs": [
    {
     "data": {
      "image/png": "[encoded data removed]",
      "text/plain": [
       "<Figure size 1008x360 with 3 Axes>"
      ]
     },
     "metadata": {},
     "output_type": "display_data"
    }
   ],
   "source": [
    "fig, axes = plt.subplots(1,3, figsize=(14,5))\n",
    "\n",
    "sns.set_theme(style=\"darkgrid\")\n",
    "axes[0].set_title(\"Category vs Profit\")\n",
    "axes[1].set_title(\"Category vs Sales\")\n",
    "axes[2].set_title(\"Category vs Quantity\")\n",
    "\n",
    "sns.barplot(x=category_df.index,\n",
    "           y='Profit',\n",
    "           data=category_df,\n",
    "           palette='Pastel2',\n",
    "           ax=axes[0])\n",
    "\n",
    "sns.barplot(x=category_df.index,\n",
    "           y='Sales',\n",
    "           data=category_df,\n",
    "           palette='Pastel2',\n",
    "           ax=axes[1])\n",
    "\n",
    "sns.barplot(x=category_df.index,\n",
    "           y='Quantity',\n",
    "           data=category_df,\n",
    "           palette='Pastel2',\n",
    "           ax=axes[2])\n",
    "\n",
    "plt.tight_layout(pad=1);"
   ]
  },
  {
   "cell_type": "markdown",
   "id": "f0beca44",
   "metadata": {
    "papermill": {
     "duration": 0.048072,
     "end_time": "2021-07-11T07:12:34.253986",
     "exception": false,
     "start_time": "2021-07-11T07:12:34.205914",
     "status": "completed"
    },
    "tags": []
   },
   "source": [
    "---\n",
    "**Analysis:**\n",
    "\n",
    "Though quantity is less, `technology` seems to have highest sales as well as profit. For more profit, focus should be more on technology.\n",
    "\n",
    "---"
   ]
  },
  {
   "cell_type": "markdown",
   "id": "245258a8",
   "metadata": {
    "papermill": {
     "duration": 0.049401,
     "end_time": "2021-07-11T07:12:34.351591",
     "exception": false,
     "start_time": "2021-07-11T07:12:34.302190",
     "status": "completed"
    },
    "tags": []
   },
   "source": [
    "## 5. Sub-Category"
   ]
  },
  {
   "cell_type": "code",
   "execution_count": 23,
   "id": "e78f1052",
   "metadata": {
    "execution": {
     "iopub.execute_input": "2021-07-11T07:12:34.458211Z",
     "iopub.status.busy": "2021-07-11T07:12:34.457194Z",
     "iopub.status.idle": "2021-07-11T07:12:34.471555Z",
     "shell.execute_reply": "2021-07-11T07:12:34.472049Z",
     "shell.execute_reply.started": "2021-07-11T06:58:30.503983Z"
    },
    "papermill": {
     "duration": 0.071411,
     "end_time": "2021-07-11T07:12:34.472216",
     "exception": false,
     "start_time": "2021-07-11T07:12:34.400805",
     "status": "completed"
    },
    "tags": []
   },
   "outputs": [
    {
     "data": {
      "text/html": [
       "<div>\n",
       "<style scoped>\n",
       "    .dataframe tbody tr th:only-of-type {\n",
       "        vertical-align: middle;\n",
       "    }\n",
       "\n",
       "    .dataframe tbody tr th {\n",
       "        vertical-align: top;\n",
       "    }\n",
       "\n",
       "    .dataframe thead th {\n",
       "        text-align: right;\n",
       "    }\n",
       "</style>\n",
       "<table border=\"1\" class=\"dataframe\">\n",
       "  <thead>\n",
       "    <tr style=\"text-align: right;\">\n",
       "      <th></th>\n",
       "      <th>Profit</th>\n",
       "      <th>Sales</th>\n",
       "      <th>Quantity</th>\n",
       "    </tr>\n",
       "    <tr>\n",
       "      <th>Sub-Category</th>\n",
       "      <th></th>\n",
       "      <th></th>\n",
       "      <th></th>\n",
       "    </tr>\n",
       "  </thead>\n",
       "  <tbody>\n",
       "    <tr>\n",
       "      <th>Accessories</th>\n",
       "      <td>41936.6357</td>\n",
       "      <td>167380.3180</td>\n",
       "      <td>2976</td>\n",
       "    </tr>\n",
       "    <tr>\n",
       "      <th>Appliances</th>\n",
       "      <td>18138.0054</td>\n",
       "      <td>107532.1610</td>\n",
       "      <td>1729</td>\n",
       "    </tr>\n",
       "    <tr>\n",
       "      <th>Art</th>\n",
       "      <td>6524.6118</td>\n",
       "      <td>27107.0320</td>\n",
       "      <td>2996</td>\n",
       "    </tr>\n",
       "    <tr>\n",
       "      <th>Binders</th>\n",
       "      <td>30228.0003</td>\n",
       "      <td>203409.1690</td>\n",
       "      <td>5971</td>\n",
       "    </tr>\n",
       "    <tr>\n",
       "      <th>Bookcases</th>\n",
       "      <td>-3472.5560</td>\n",
       "      <td>114879.9963</td>\n",
       "      <td>868</td>\n",
       "    </tr>\n",
       "    <tr>\n",
       "      <th>Chairs</th>\n",
       "      <td>26567.1278</td>\n",
       "      <td>327777.7610</td>\n",
       "      <td>2351</td>\n",
       "    </tr>\n",
       "    <tr>\n",
       "      <th>Copiers</th>\n",
       "      <td>55617.8249</td>\n",
       "      <td>149528.0300</td>\n",
       "      <td>234</td>\n",
       "    </tr>\n",
       "    <tr>\n",
       "      <th>Envelopes</th>\n",
       "      <td>6964.1767</td>\n",
       "      <td>16476.4020</td>\n",
       "      <td>906</td>\n",
       "    </tr>\n",
       "    <tr>\n",
       "      <th>Fasteners</th>\n",
       "      <td>949.5182</td>\n",
       "      <td>3024.2800</td>\n",
       "      <td>914</td>\n",
       "    </tr>\n",
       "    <tr>\n",
       "      <th>Furnishings</th>\n",
       "      <td>13052.7230</td>\n",
       "      <td>91683.0240</td>\n",
       "      <td>3560</td>\n",
       "    </tr>\n",
       "    <tr>\n",
       "      <th>Labels</th>\n",
       "      <td>5526.3820</td>\n",
       "      <td>12444.9120</td>\n",
       "      <td>1396</td>\n",
       "    </tr>\n",
       "    <tr>\n",
       "      <th>Machines</th>\n",
       "      <td>3384.7569</td>\n",
       "      <td>189238.6310</td>\n",
       "      <td>440</td>\n",
       "    </tr>\n",
       "    <tr>\n",
       "      <th>Paper</th>\n",
       "      <td>33944.2395</td>\n",
       "      <td>78224.1420</td>\n",
       "      <td>5144</td>\n",
       "    </tr>\n",
       "    <tr>\n",
       "      <th>Phones</th>\n",
       "      <td>44515.7306</td>\n",
       "      <td>330007.0540</td>\n",
       "      <td>3289</td>\n",
       "    </tr>\n",
       "    <tr>\n",
       "      <th>Storage</th>\n",
       "      <td>21278.8264</td>\n",
       "      <td>223843.6080</td>\n",
       "      <td>3158</td>\n",
       "    </tr>\n",
       "    <tr>\n",
       "      <th>Supplies</th>\n",
       "      <td>-1189.0995</td>\n",
       "      <td>46673.5380</td>\n",
       "      <td>647</td>\n",
       "    </tr>\n",
       "    <tr>\n",
       "      <th>Tables</th>\n",
       "      <td>-17725.4811</td>\n",
       "      <td>206965.5320</td>\n",
       "      <td>1241</td>\n",
       "    </tr>\n",
       "  </tbody>\n",
       "</table>\n",
       "</div>"
      ],
      "text/plain": [
       "                  Profit        Sales  Quantity\n",
       "Sub-Category                                   \n",
       "Accessories   41936.6357  167380.3180      2976\n",
       "Appliances    18138.0054  107532.1610      1729\n",
       "Art            6524.6118   27107.0320      2996\n",
       "Binders       30228.0003  203409.1690      5971\n",
       "Bookcases     -3472.5560  114879.9963       868\n",
       "Chairs        26567.1278  327777.7610      2351\n",
       "Copiers       55617.8249  149528.0300       234\n",
       "Envelopes      6964.1767   16476.4020       906\n",
       "Fasteners       949.5182    3024.2800       914\n",
       "Furnishings   13052.7230   91683.0240      3560\n",
       "Labels         5526.3820   12444.9120      1396\n",
       "Machines       3384.7569  189238.6310       440\n",
       "Paper         33944.2395   78224.1420      5144\n",
       "Phones        44515.7306  330007.0540      3289\n",
       "Storage       21278.8264  223843.6080      3158\n",
       "Supplies      -1189.0995   46673.5380       647\n",
       "Tables       -17725.4811  206965.5320      1241"
      ]
     },
     "execution_count": 23,
     "metadata": {},
     "output_type": "execute_result"
    }
   ],
   "source": [
    "sub_category_df = pd.DataFrame(df.groupby(['Sub-Category'])[['Profit', 'Sales', 'Quantity']].sum())\n",
    "sub_category_df"
   ]
  },
  {
   "cell_type": "code",
   "execution_count": 24,
   "id": "ef35fdbb",
   "metadata": {
    "execution": {
     "iopub.execute_input": "2021-07-11T07:12:34.596999Z",
     "iopub.status.busy": "2021-07-11T07:12:34.596292Z",
     "iopub.status.idle": "2021-07-11T07:12:35.735914Z",
     "shell.execute_reply": "2021-07-11T07:12:35.735372Z",
     "shell.execute_reply.started": "2021-07-11T06:58:30.525228Z"
    },
    "papermill": {
     "duration": 1.214823,
     "end_time": "2021-07-11T07:12:35.736059",
     "exception": false,
     "start_time": "2021-07-11T07:12:34.521236",
     "status": "completed"
    },
    "tags": []
   },
   "outputs": [
    {
     "data": {
      "image/png": "[encoded data removed]",
      "text/plain": [
       "<Figure size 720x1296 with 3 Axes>"
      ]
     },
     "metadata": {},
     "output_type": "display_data"
    }
   ],
   "source": [
    "fig, axes = plt.subplots(3,1, figsize=(10,18))\n",
    "\n",
    "sns.set_theme(style=\"darkgrid\")\n",
    "axes[0].set_title(\"Sub-Category vs Profit\")\n",
    "axes[1].set_title(\"Sub-Category vs Sales\")\n",
    "axes[2].set_title(\"Sub-Category vs Quantity\")\n",
    "\n",
    "sns.barplot(y=sub_category_df.index,\n",
    "           x='Profit',\n",
    "           data=sub_category_df,\n",
    "           palette='icefire',\n",
    "           ax=axes[0])\n",
    "\n",
    "sns.barplot(y=sub_category_df.index,\n",
    "           x='Sales',\n",
    "           data=sub_category_df,\n",
    "           palette='icefire',\n",
    "           ax=axes[1])\n",
    "\n",
    "sns.barplot(y=sub_category_df.index,\n",
    "           x='Quantity',\n",
    "           data=sub_category_df,\n",
    "           palette='icefire',\n",
    "           ax=axes[2])\n",
    "\n",
    "plt.tight_layout(pad=3);"
   ]
  },
  {
   "cell_type": "markdown",
   "id": "733ee75a",
   "metadata": {
    "papermill": {
     "duration": 0.05533,
     "end_time": "2021-07-11T07:12:35.845024",
     "exception": false,
     "start_time": "2021-07-11T07:12:35.789694",
     "status": "completed"
    },
    "tags": []
   },
   "source": [
    "---\n",
    "**Analysis:**\n",
    "\n",
    "With analyzing these graphs, we may say that `copiers`, `accesories` and `phones` have more sales and profit.\n",
    "\n",
    "---"
   ]
  },
  {
   "cell_type": "markdown",
   "id": "7c58e734",
   "metadata": {
    "papermill": {
     "duration": 0.052162,
     "end_time": "2021-07-11T07:12:35.951418",
     "exception": false,
     "start_time": "2021-07-11T07:12:35.899256",
     "status": "completed"
    },
    "tags": []
   },
   "source": [
    "## 6. Cities"
   ]
  },
  {
   "cell_type": "code",
   "execution_count": 25,
   "id": "4625457f",
   "metadata": {
    "execution": {
     "iopub.execute_input": "2021-07-11T07:12:36.065030Z",
     "iopub.status.busy": "2021-07-11T07:12:36.064339Z",
     "iopub.status.idle": "2021-07-11T07:12:36.071835Z",
     "shell.execute_reply": "2021-07-11T07:12:36.071268Z",
     "shell.execute_reply.started": "2021-07-11T06:58:31.696085Z"
    },
    "papermill": {
     "duration": 0.06827,
     "end_time": "2021-07-11T07:12:36.071985",
     "exception": false,
     "start_time": "2021-07-11T07:12:36.003715",
     "status": "completed"
    },
    "tags": []
   },
   "outputs": [],
   "source": [
    "cities_df = pd.DataFrame(df.groupby(['City'])[['Profit', 'Sales', 'Quantity']].sum().sort_values('Profit',ascending = False))\n",
    "top10 = cities_df.head(10)\n",
    "last10 = cities_df.tail(10)"
   ]
  },
  {
   "cell_type": "code",
   "execution_count": 26,
   "id": "8f8bd943",
   "metadata": {
    "execution": {
     "iopub.execute_input": "2021-07-11T07:12:36.185289Z",
     "iopub.status.busy": "2021-07-11T07:12:36.184606Z",
     "iopub.status.idle": "2021-07-11T07:12:36.188048Z",
     "shell.execute_reply": "2021-07-11T07:12:36.187403Z",
     "shell.execute_reply.started": "2021-07-11T06:58:31.708606Z"
    },
    "papermill": {
     "duration": 0.062266,
     "end_time": "2021-07-11T07:12:36.188202",
     "exception": false,
     "start_time": "2021-07-11T07:12:36.125936",
     "status": "completed"
    },
    "tags": []
   },
   "outputs": [],
   "source": [
    "high_low = top10.append(last10)"
   ]
  },
  {
   "cell_type": "code",
   "execution_count": 27,
   "id": "e5b3a95d",
   "metadata": {
    "execution": {
     "iopub.execute_input": "2021-07-11T07:12:36.364751Z",
     "iopub.status.busy": "2021-07-11T07:12:36.344359Z",
     "iopub.status.idle": "2021-07-11T07:12:37.611358Z",
     "shell.execute_reply": "2021-07-11T07:12:37.610682Z",
     "shell.execute_reply.started": "2021-07-11T06:58:31.721326Z"
    },
    "papermill": {
     "duration": 1.36918,
     "end_time": "2021-07-11T07:12:37.611539",
     "exception": false,
     "start_time": "2021-07-11T07:12:36.242359",
     "status": "completed"
    },
    "tags": []
   },
   "outputs": [
    {
     "data": {
      "image/png": "[encoded data removed]",
      "text/plain": [
       "<Figure size 864x1368 with 3 Axes>"
      ]
     },
     "metadata": {},
     "output_type": "display_data"
    }
   ],
   "source": [
    "fig, axes = plt.subplots(3,1, figsize=(12, 19))\n",
    "\n",
    "axes[0].set_title(\"Profit of top 10 and bottom 10\")\n",
    "axes[1].set_title(\"Sales of top 10 and bottom 10\")\n",
    "axes[2].set_title(\"Quantity of top 10 and bottom 10\")\n",
    "\n",
    "sns.barplot(y=high_low.index,\n",
    "           x='Profit',\n",
    "           data=high_low,\n",
    "           palette='muted',\n",
    "           ax=axes[0])\n",
    "\n",
    "sns.barplot(y=high_low.index,\n",
    "           x='Sales',\n",
    "           data=high_low,\n",
    "           palette='muted',\n",
    "           ax=axes[1])\n",
    "\n",
    "sns.barplot(y=high_low.index,\n",
    "           x='Quantity',\n",
    "           data=high_low,\n",
    "           palette='muted',\n",
    "           ax=axes[2])\n",
    "\n",
    "plt.tight_layout(pad=4);"
   ]
  },
  {
   "cell_type": "markdown",
   "id": "9aa31ae3",
   "metadata": {
    "papermill": {
     "duration": 0.055195,
     "end_time": "2021-07-11T07:12:37.723393",
     "exception": false,
     "start_time": "2021-07-11T07:12:37.668198",
     "status": "completed"
    },
    "tags": []
   },
   "source": [
    "---\n",
    "**Analysis:**\n",
    "\n",
    "* `New York` have the most sales and profit.\n",
    "* With a fairly high quantity and sales at `Philadelphia`, `Houston` and `Chicago`, profit at these places is in negative.\n",
    "* There is a huge disparity between the cities with highest sales and lowest sales. Marketing strategy has to target the `top 10 cities`.\n",
    "\n",
    "---"
   ]
  },
  {
   "cell_type": "markdown",
   "id": "cd2ab105",
   "metadata": {
    "papermill": {
     "duration": 0.054995,
     "end_time": "2021-07-11T07:12:37.834371",
     "exception": false,
     "start_time": "2021-07-11T07:12:37.779376",
     "status": "completed"
    },
    "tags": []
   },
   "source": [
    "# Final Conclusions:\n",
    "\n",
    "Consider following recommendations for higher profit:-\n",
    "* Focus on category Technology like Phones as they are highest selling and most profitable. Bundle them with the less profitable products to offset the losses like tables and suppplies.\n",
    "* Selling bookcases, tables and supplies result in losses, so SuperStores has to consider to bundle them together with High Selling or Profitable sub-category such as Machines, Copiers, Phones etc.\n",
    "* For Home Offices customers, these people might be busy with work and less likely to spend time selecting individual products, so creating a Home Office Catalog with products used for offices such as paper, chairs, phone, copiers, storage,machines would result in better profits.\n",
    "* Target consumer customers from East and West region of top 10 cities with most profits, with special promotions and advertisments for copiers, phones, accessories etc.\n",
    "\n",
    "___\n",
    "\n",
    "## Thank you :)"
   ]
  },
  {
   "cell_type": "code",
   "execution_count": null,
   "id": "5702773d",
   "metadata": {
    "papermill": {
     "duration": 0.055799,
     "end_time": "2021-07-11T07:12:37.946293",
     "exception": false,
     "start_time": "2021-07-11T07:12:37.890494",
     "status": "completed"
    },
    "tags": []
   },
   "outputs": [],
   "source": []
  }
 ],
 "metadata": {
  "kernelspec": {
   "display_name": "Python 3",
   "language": "python",
   "name": "python3"
  },
  "language_info": {
   "codemirror_mode": {
    "name": "ipython",
    "version": 3
   },
   "file_extension": ".py",
   "mimetype": "text/x-python",
   "name": "python",
   "nbconvert_exporter": "python",
   "pygments_lexer": "ipython3",
   "version": "3.7.10"
  },
  "papermill": {
   "default_parameters": {},
   "duration": 23.888356,
   "end_time": "2021-07-11T07:12:39.324138",
   "environment_variables": {},
   "exception": null,
   "input_path": "__notebook__.ipynb",
   "output_path": "__notebook__.ipynb",
   "parameters": {},
   "start_time": "2021-07-11T07:12:15.435782",
   "version": "2.3.3"
  }
 },
 "nbformat": 4,
 "nbformat_minor": 5
}
